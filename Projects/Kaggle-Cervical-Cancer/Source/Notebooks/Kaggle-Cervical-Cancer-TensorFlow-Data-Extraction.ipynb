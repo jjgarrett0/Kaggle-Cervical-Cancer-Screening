{
 "cells": [
  {
   "cell_type": "markdown",
   "metadata": {},
   "source": [
    "# Data Extraction Notebook\n",
    "This notebook is used to gather all the training and test images and convert them to numpy representations to be stored in an archive file for easier use while training the CNN. Images are resized to 32x32x3. "
   ]
  },
  {
   "cell_type": "code",
   "execution_count": null,
   "metadata": {
    "collapsed": true
   },
   "outputs": [],
   "source": [
    "import os\n",
    "import piexif\n",
    "import cv2\n",
    "import numpy as np\n",
    "from sklearn.model_selection import train_test_split\n",
    "import sys"
   ]
  },
  {
   "cell_type": "code",
   "execution_count": null,
   "metadata": {
    "collapsed": true
   },
   "outputs": [],
   "source": [
    "#Images are going to be square so set size to 32 to be used for both width and height.\n",
    "img_size = 32\n",
    "train_dir = \"{Insert directory with training images here}\"\n",
    "test_dir = \"{Insert directory with test images here}\""
   ]
  },
  {
   "cell_type": "code",
   "execution_count": null,
   "metadata": {
    "collapsed": true
   },
   "outputs": [],
   "source": [
    "def PreProcess_Images(root, train=True):\n",
    "    features = []\n",
    "    labels = []\n",
    "    \n",
    "    for subdir, dirs, files in os.walk(root):\n",
    "        count  = 0\n",
    "        for file in files:\n",
    "            tot_files = len(files)\n",
    "            if not file == \".DS_Store\":\n",
    "                count += 1\n",
    "                sys.stdout.write(\"\\rFile = \" + file + \" ----- Progress: {:2.1f}%\".format(100 * count/float(tot_files)))\n",
    "                img = os.path.join(subdir, file)\n",
    "                #Remove exif data - This is because there is a lot of corrupt exif data in this dataset.\n",
    "                if os.stat(img).st_size > 0:\n",
    "                    piexif.remove(img)\n",
    "                else:\n",
    "                    continue\n",
    "                #Open image and resize to designated width and height. \n",
    "                im = cv2.imread(img)\n",
    "                im = cv2.resize(im, (img_size, img_size))\n",
    "                #Extract features into a numpy array.\n",
    "                feature = np.array(im, dtype=np.float32)\n",
    "                #append feature to features list.\n",
    "                features.append(feature)\n",
    "                \n",
    "                #only apply labels for training data. \n",
    "                if train == True:\n",
    "                    #Get label from directory name.\n",
    "                    label = os.path.basename(subdir)\n",
    "                    #One hot encoding of label names.\n",
    "                    if label == \"1\":\n",
    "                        label = [1,0,0]\n",
    "                    elif label == \"2\":\n",
    "                        label = [0,1,0]\n",
    "                    else:\n",
    "                        label = [0,0,1]\n",
    "                    #append label to labels list.    \n",
    "                    labels.append(label)\n",
    "                #add image filename to labels to be used in formatting of submission data.\n",
    "                else:\n",
    "                    label = os.path.basename(img)\n",
    "                    labels.append(label)\n",
    "                sys.stdout.flush()\n",
    "    \n",
    "    if train == True:\n",
    "        labels = np.array(labels, np.uint8)\n",
    "        \n",
    "    features = np.array(features, np.float32) / 255.\n",
    "    \n",
    "    return features, labels"
   ]
  },
  {
   "cell_type": "code",
   "execution_count": null,
   "metadata": {},
   "outputs": [],
   "source": [
    "#Get Training X and y lists.\n",
    "X, y = PreProcess_Images(train_dir, train=True)"
   ]
  },
  {
   "cell_type": "code",
   "execution_count": null,
   "metadata": {},
   "outputs": [],
   "source": [
    "#Get test X and filenames of test images\n",
    "X_test, flnm_test = PreProcess_Images(test_dir, train=False)"
   ]
  },
  {
   "cell_type": "code",
   "execution_count": null,
   "metadata": {
    "collapsed": true
   },
   "outputs": [],
   "source": [
    "#Split training data into training and validation data.\n",
    "X_train, X_valid, y_train, y_valid = train_test_split(X, y, test_size=0.20, random_state=42)"
   ]
  },
  {
   "cell_type": "code",
   "execution_count": null,
   "metadata": {
    "collapsed": true
   },
   "outputs": [],
   "source": [
    "#Save all information to a numpy archive file to be used when training the model.\n",
    "np.savez('data_arrays', X_train, y_train, X_valid, y_valid, X_test, flnm_test)"
   ]
  }
 ],
 "metadata": {
  "anaconda-cloud": {},
  "kernelspec": {
   "display_name": "Python [conda env:KaggleCervix]",
   "language": "python",
   "name": "conda-env-KaggleCervix-py"
  },
  "language_info": {
   "codemirror_mode": {
    "name": "ipython",
    "version": 3
   },
   "file_extension": ".py",
   "mimetype": "text/x-python",
   "name": "python",
   "nbconvert_exporter": "python",
   "pygments_lexer": "ipython3",
   "version": "3.5.3"
  }
 },
 "nbformat": 4,
 "nbformat_minor": 1
}
