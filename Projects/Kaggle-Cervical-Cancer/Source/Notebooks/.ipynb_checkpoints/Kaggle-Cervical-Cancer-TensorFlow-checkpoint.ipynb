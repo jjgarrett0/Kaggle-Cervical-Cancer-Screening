{
 "cells": [
  {
   "cell_type": "code",
   "execution_count": 1,
   "metadata": {},
   "outputs": [
    {
     "name": "stderr",
     "output_type": "stream",
     "text": [
      "Using TensorFlow backend.\n"
     ]
    }
   ],
   "source": [
    "import os\n",
    "import piexif\n",
    "import cv2\n",
    "from tqdm import tqdm\n",
    "import numpy as np\n",
    "from sklearn.model_selection import train_test_split\n",
    "import keras as k\n",
    "from keras.models import Sequential\n",
    "from keras.layers import Dense, Dropout, Flatten\n",
    "from keras.layers import Conv2D, MaxPooling2D, ZeroPadding2D\n",
    "from keras import optimizers\n",
    "import matplotlib.pyplot as plt\n",
    "import pandas as pd"
   ]
  },
  {
   "cell_type": "code",
   "execution_count": 2,
   "metadata": {
    "collapsed": true
   },
   "outputs": [],
   "source": [
    "img_size = 32\n",
    "train_dir = \"/Users/JG/Documents/Machine_Learning/Data/CervicalShape/Images/Train\"\n",
    "test_dir = \"/Users/JG/Documents/Machine_Learning/Data/CervicalShape/Images/Test\""
   ]
  },
  {
   "cell_type": "code",
   "execution_count": 3,
   "metadata": {
    "collapsed": true
   },
   "outputs": [],
   "source": [
    "def PreProcess_Images(root, train=True):\n",
    "    features = []\n",
    "    labels = []\n",
    "    \n",
    "    for subdir, dirs, files in os.walk(root):\n",
    "        for file in tqdm(files):\n",
    "            if not file == \".DS_Store\":\n",
    "                img = os.path.join(subdir, file)\n",
    "                #Remove exif data - This is because there is a lot of corrupt exif data in this dataset.\n",
    "                piexif.remove(img)\n",
    "                #Open image and resize to designated width and height. \n",
    "                im = cv2.imread(img)\n",
    "                im = cv2.resize(im, (img_size, img_size))\n",
    "                #Extract features into a numpy array.\n",
    "                feature = np.array(im, dtype=np.float32)\n",
    "                #append feature to features list.\n",
    "                features.append(feature)\n",
    "                \n",
    "                #only apply labels for training data. \n",
    "                if train == True:\n",
    "                    #Get label from directory name.\n",
    "                    label = os.path.basename(subdir)\n",
    "                    if label == \"1\":\n",
    "                        label = [1,0,0]\n",
    "                    elif label == \"2\":\n",
    "                        label = [0,1,0]\n",
    "                    else:\n",
    "                        label = [0,0,1]\n",
    "                        \n",
    "                    labels.append(label)\n",
    "                    labels = np.array(labels, np.uint8)\n",
    "                else:\n",
    "                    label = os.path.basename(img)\n",
    "                    labels.append(label)\n",
    "    \n",
    "    features = np.array(features, np.float32) / 255.\n",
    "    \n",
    "    return features, labels"
   ]
  },
  {
   "cell_type": "code",
   "execution_count": 61,
   "metadata": {},
   "outputs": [
    {
     "name": "stderr",
     "output_type": "stream",
     "text": [
      "100%|██████████| 1/1 [00:00<00:00, 5152.71it/s]\n",
      "100%|██████████| 251/251 [02:32<00:00,  1.94it/s]\n",
      "100%|██████████| 782/782 [07:47<00:00,  1.96it/s]\n",
      "100%|██████████| 451/451 [03:53<00:00,  2.27it/s]\n"
     ]
    }
   ],
   "source": [
    "X, y = PreProcess_Images(train_dir, train=True)"
   ]
  },
  {
   "cell_type": "code",
   "execution_count": 115,
   "metadata": {},
   "outputs": [
    {
     "name": "stderr",
     "output_type": "stream",
     "text": [
      "100%|██████████| 512/512 [05:00<00:00,  1.90it/s]\n"
     ]
    }
   ],
   "source": [
    "X_test, flnm_test = PreProcess_Images(test_dir, train=False)"
   ]
  },
  {
   "cell_type": "code",
   "execution_count": 62,
   "metadata": {},
   "outputs": [],
   "source": [
    "X_train, X_valid, y_train, y_valid = train_test_split(X, y, test_size=0.20, random_state=42)"
   ]
  },
  {
   "cell_type": "code",
   "execution_count": 66,
   "metadata": {
    "collapsed": true
   },
   "outputs": [],
   "source": [
    "np.savez('data_arrays', X_train, y_train, X_valid, y_valid, X_test, y_test)"
   ]
  },
  {
   "cell_type": "code",
   "execution_count": 67,
   "metadata": {},
   "outputs": [],
   "source": [
    "with np.load('data_arrays.npz') as data:\n",
    "    xtr = data['arr_0']\n",
    "    ytr = data['arr_1']\n",
    "    xvl = data['arr_2']\n",
    "    yvl = data['arr_3']\n",
    "    xts = data['arr_4']\n",
    "    yts = data['arr_5']"
   ]
  },
  {
   "cell_type": "code",
   "execution_count": 95,
   "metadata": {},
   "outputs": [],
   "source": [
    "#Quick Keras Model\n",
    "model = Sequential()\n",
    "model.add(ZeroPadding2D((1,1),input_shape=(32,32,3)))\n",
    "model.add(Conv2D(32, (3, 3),activation='relu'))\n",
    "model.add(Conv2D(64, (3, 3), activation='relu'))\n",
    "model.add(MaxPooling2D(pool_size=(2, 2), strides=None, padding='valid', data_format=None))\n",
    "model.add(Dropout(0.25))\n",
    "model.add(Flatten())\n",
    "model.add(Dense(128, activation='relu'))\n",
    "model.add(Dropout(0.6))\n",
    "model.add(Dense(3, activation='softmax'))\n",
    "model.compile(loss='categorical_crossentropy',\n",
    "              optimizer=optimizers.SGD(lr=0.1, momentum=0.1, decay=0.0),\n",
    "              metrics=['accuracy']\n",
    "             )"
   ]
  },
  {
   "cell_type": "code",
   "execution_count": 96,
   "metadata": {},
   "outputs": [
    {
     "name": "stdout",
     "output_type": "stream",
     "text": [
      "Train on 1184 samples, validate on 297 samples\n",
      "Epoch 1/30\n",
      "1184/1184 [==============================] - 5s - loss: 1.0304 - acc: 0.5279 - val_loss: 1.0393 - val_acc: 0.4613\n",
      "Epoch 2/30\n",
      "1184/1184 [==============================] - 4s - loss: 1.0020 - acc: 0.5439 - val_loss: 1.0401 - val_acc: 0.4613\n",
      "Epoch 3/30\n",
      "1184/1184 [==============================] - 4s - loss: 0.9908 - acc: 0.5439 - val_loss: 1.0426 - val_acc: 0.4613\n",
      "Epoch 4/30\n",
      "1184/1184 [==============================] - 4s - loss: 0.9970 - acc: 0.5439 - val_loss: 1.0193 - val_acc: 0.4613\n",
      "Epoch 5/30\n",
      "1184/1184 [==============================] - 4s - loss: 0.9906 - acc: 0.5456 - val_loss: 1.0922 - val_acc: 0.4613\n",
      "Epoch 6/30\n",
      "1184/1184 [==============================] - 4s - loss: 0.9882 - acc: 0.5439 - val_loss: 1.0180 - val_acc: 0.4613\n",
      "Epoch 7/30\n",
      "1184/1184 [==============================] - 4s - loss: 0.9817 - acc: 0.5431 - val_loss: 1.0232 - val_acc: 0.4613\n",
      "Epoch 8/30\n",
      "1184/1184 [==============================] - 4s - loss: 0.9645 - acc: 0.5473 - val_loss: 1.0221 - val_acc: 0.4613\n",
      "Epoch 9/30\n",
      "1184/1184 [==============================] - 4s - loss: 0.9613 - acc: 0.5414 - val_loss: 1.0032 - val_acc: 0.4613\n",
      "Epoch 10/30\n",
      "1184/1184 [==============================] - 4s - loss: 0.9729 - acc: 0.5439 - val_loss: 0.9929 - val_acc: 0.4613\n",
      "Epoch 11/30\n",
      "1184/1184 [==============================] - 4s - loss: 0.9497 - acc: 0.5583 - val_loss: 1.0260 - val_acc: 0.4613\n",
      "Epoch 12/30\n",
      "1184/1184 [==============================] - 4s - loss: 0.9486 - acc: 0.5473 - val_loss: 1.0859 - val_acc: 0.4680\n",
      "Epoch 13/30\n",
      "1184/1184 [==============================] - 4s - loss: 0.9427 - acc: 0.5617 - val_loss: 0.9841 - val_acc: 0.4714\n",
      "Epoch 14/30\n",
      "1184/1184 [==============================] - 4s - loss: 0.9295 - acc: 0.5701 - val_loss: 1.0043 - val_acc: 0.4646\n",
      "Epoch 15/30\n",
      "1184/1184 [==============================] - 5s - loss: 0.9216 - acc: 0.5650 - val_loss: 1.0175 - val_acc: 0.4646\n",
      "Epoch 16/30\n",
      "1184/1184 [==============================] - 4s - loss: 0.9033 - acc: 0.5726 - val_loss: 0.9768 - val_acc: 0.5084\n",
      "Epoch 17/30\n",
      "1184/1184 [==============================] - 4s - loss: 0.9109 - acc: 0.5777 - val_loss: 0.9760 - val_acc: 0.4882\n",
      "Epoch 18/30\n",
      "1184/1184 [==============================] - 4s - loss: 0.8911 - acc: 0.5701 - val_loss: 0.9439 - val_acc: 0.5488\n",
      "Epoch 19/30\n",
      "1184/1184 [==============================] - 4s - loss: 0.8794 - acc: 0.5769 - val_loss: 1.0111 - val_acc: 0.4680\n",
      "Epoch 20/30\n",
      "1184/1184 [==============================] - 4s - loss: 0.8845 - acc: 0.5709 - val_loss: 0.9789 - val_acc: 0.5253\n",
      "Epoch 21/30\n",
      "1184/1184 [==============================] - 5s - loss: 0.8801 - acc: 0.5785 - val_loss: 0.9832 - val_acc: 0.4781\n",
      "Epoch 22/30\n",
      "1184/1184 [==============================] - 4s - loss: 0.8432 - acc: 0.6047 - val_loss: 1.0870 - val_acc: 0.4613\n",
      "Epoch 23/30\n",
      "1184/1184 [==============================] - 4s - loss: 0.8668 - acc: 0.5828 - val_loss: 0.9658 - val_acc: 0.5017\n",
      "Epoch 24/30\n",
      "1184/1184 [==============================] - 4s - loss: 0.8550 - acc: 0.6005 - val_loss: 0.9584 - val_acc: 0.4848\n",
      "Epoch 25/30\n",
      "1184/1184 [==============================] - 4s - loss: 0.8417 - acc: 0.6123 - val_loss: 0.9561 - val_acc: 0.5051\n",
      "Epoch 26/30\n",
      "1184/1184 [==============================] - 4s - loss: 0.8330 - acc: 0.5971 - val_loss: 0.9414 - val_acc: 0.5253\n",
      "Epoch 27/30\n",
      "1184/1184 [==============================] - 4s - loss: 0.8191 - acc: 0.6039 - val_loss: 0.9706 - val_acc: 0.5118\n",
      "Epoch 28/30\n",
      "1184/1184 [==============================] - 4s - loss: 0.8126 - acc: 0.6233 - val_loss: 0.9410 - val_acc: 0.5556\n",
      "Epoch 29/30\n",
      "1184/1184 [==============================] - 4s - loss: 0.7964 - acc: 0.6410 - val_loss: 0.9726 - val_acc: 0.5286\n",
      "Epoch 30/30\n",
      "1184/1184 [==============================] - 4s - loss: 0.7966 - acc: 0.6225 - val_loss: 0.9725 - val_acc: 0.5488\n"
     ]
    }
   ],
   "source": [
    "#Train model and save information to history for plotting.\n",
    "history = model.fit(xtr, ytr,\n",
    "          batch_size=128,\n",
    "          epochs=30,\n",
    "          verbose=1,\n",
    "          validation_data=(xvl, yvl))"
   ]
  },
  {
   "cell_type": "code",
   "execution_count": 97,
   "metadata": {},
   "outputs": [
    {
     "data": {
      "image/png": "[encoded data removed]",
      "text/plain": [
       "<matplotlib.figure.Figure at 0x13a6c3400>"
      ]
     },
     "metadata": {},
     "output_type": "display_data"
    },
    {
     "data": {
      "image/png": "[encoded data removed]",
      "text/plain": [
       "<matplotlib.figure.Figure at 0x13818cc88>"
      ]
     },
     "metadata": {},
     "output_type": "display_data"
    }
   ],
   "source": [
    "# summarize history for accuracy\n",
    "plt.plot(history.history['acc'])\n",
    "plt.plot(history.history['val_acc'])\n",
    "plt.title('model accuracy')\n",
    "plt.ylabel('accuracy')\n",
    "plt.xlabel('epoch')\n",
    "plt.legend(['train', 'test'], loc='upper left')\n",
    "plt.show()\n",
    "# summarize history for loss\n",
    "plt.plot(history.history['loss'])\n",
    "plt.plot(history.history['val_loss'])\n",
    "plt.title('model loss')\n",
    "plt.ylabel('loss')\n",
    "plt.xlabel('epoch')\n",
    "plt.legend(['train', 'test'], loc='upper left')\n",
    "plt.show()"
   ]
  },
  {
   "cell_type": "code",
   "execution_count": 118,
   "metadata": {
    "collapsed": true
   },
   "outputs": [],
   "source": [
    "#Create Prediction File(.csv)\n",
    "test_predictions = model.predict(xts, batch_size=32, verbose=0)\n",
    "test_data = np.column_stack((flnm_test,test_predictions))\n",
    "dfPreds = pd.DataFrame(data=test_data,columns=['image_name','Type_1','Type_2','Type_3'])\n",
    "dfPreds.to_csv('submission_1.csv', index=False)"
   ]
  },
  {
   "cell_type": "code",
   "execution_count": null,
   "metadata": {
    "collapsed": true
   },
   "outputs": [],
   "source": []
  }
 ],
 "metadata": {
  "anaconda-cloud": {},
  "kernelspec": {
   "display_name": "Python [conda env:KaggleCervix]",
   "language": "python",
   "name": "conda-env-KaggleCervix-py"
  },
  "language_info": {
   "codemirror_mode": {
    "name": "ipython",
    "version": 3
   },
   "file_extension": ".py",
   "mimetype": "text/x-python",
   "name": "python",
   "nbconvert_exporter": "python",
   "pygments_lexer": "ipython3",
   "version": "3.5.3"
  }
 },
 "nbformat": 4,
 "nbformat_minor": 1
}
